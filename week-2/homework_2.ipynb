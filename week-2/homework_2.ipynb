{
 "cells": [
  {
   "cell_type": "code",
   "execution_count": 2,
   "id": "5dae02f1-6c3c-4da7-923a-4b1dc3835f65",
   "metadata": {},
   "outputs": [],
   "source": [
    "import pandas as pd"
   ]
  },
  {
   "cell_type": "code",
   "execution_count": 8,
   "id": "d13c4fd0-f0bb-4105-ada0-50635d22111f",
   "metadata": {},
   "outputs": [
    {
     "name": "stdout",
     "output_type": "stream",
     "text": [
      "--2025-10-13 06:04:13--  https://raw.githubusercontent.com/alexeygrigorev/datasets/master/car_fuel_efficiency.csv\n",
      "Resolving raw.githubusercontent.com (raw.githubusercontent.com)... 185.199.111.133, 185.199.108.133, 185.199.109.133, ...\n",
      "Connecting to raw.githubusercontent.com (raw.githubusercontent.com)|185.199.111.133|:443... connected.\n",
      "HTTP request sent, awaiting response... 200 OK\n",
      "Length: 874188 (854K) [text/plain]\n",
      "Saving to: ‘car_fuel_efficiency.csv’\n",
      "\n",
      "car_fuel_efficiency 100%[===================>] 853.70K  --.-KB/s    in 0.005s  \n",
      "\n",
      "2025-10-13 06:04:14 (180 MB/s) - ‘car_fuel_efficiency.csv’ saved [874188/874188]\n",
      "\n"
     ]
    }
   ],
   "source": [
    "!wget https://raw.githubusercontent.com/alexeygrigorev/datasets/master/car_fuel_efficiency.csv"
   ]
  },
  {
   "cell_type": "code",
   "execution_count": 3,
   "id": "95b23fa8-34dd-49e5-9bd3-a5cf591d8f28",
   "metadata": {},
   "outputs": [],
   "source": [
    "df = pd.read_csv('car_fuel_efficiency.csv')"
   ]
  },
  {
   "cell_type": "code",
   "execution_count": 4,
   "id": "1b0c0b60-fa19-490d-83c1-e1e67203df05",
   "metadata": {},
   "outputs": [
    {
     "data": {
      "text/html": [
       "<div>\n",
       "<style scoped>\n",
       "    .dataframe tbody tr th:only-of-type {\n",
       "        vertical-align: middle;\n",
       "    }\n",
       "\n",
       "    .dataframe tbody tr th {\n",
       "        vertical-align: top;\n",
       "    }\n",
       "\n",
       "    .dataframe thead th {\n",
       "        text-align: right;\n",
       "    }\n",
       "</style>\n",
       "<table border=\"1\" class=\"dataframe\">\n",
       "  <thead>\n",
       "    <tr style=\"text-align: right;\">\n",
       "      <th></th>\n",
       "      <th>engine_displacement</th>\n",
       "      <th>num_cylinders</th>\n",
       "      <th>horsepower</th>\n",
       "      <th>vehicle_weight</th>\n",
       "      <th>acceleration</th>\n",
       "      <th>model_year</th>\n",
       "      <th>origin</th>\n",
       "      <th>fuel_type</th>\n",
       "      <th>drivetrain</th>\n",
       "      <th>num_doors</th>\n",
       "      <th>fuel_efficiency_mpg</th>\n",
       "    </tr>\n",
       "  </thead>\n",
       "  <tbody>\n",
       "    <tr>\n",
       "      <th>0</th>\n",
       "      <td>170</td>\n",
       "      <td>3.0</td>\n",
       "      <td>159.0</td>\n",
       "      <td>3413.433759</td>\n",
       "      <td>17.7</td>\n",
       "      <td>2003</td>\n",
       "      <td>Europe</td>\n",
       "      <td>Gasoline</td>\n",
       "      <td>All-wheel drive</td>\n",
       "      <td>0.0</td>\n",
       "      <td>13.231729</td>\n",
       "    </tr>\n",
       "    <tr>\n",
       "      <th>1</th>\n",
       "      <td>130</td>\n",
       "      <td>5.0</td>\n",
       "      <td>97.0</td>\n",
       "      <td>3149.664934</td>\n",
       "      <td>17.8</td>\n",
       "      <td>2007</td>\n",
       "      <td>USA</td>\n",
       "      <td>Gasoline</td>\n",
       "      <td>Front-wheel drive</td>\n",
       "      <td>0.0</td>\n",
       "      <td>13.688217</td>\n",
       "    </tr>\n",
       "    <tr>\n",
       "      <th>2</th>\n",
       "      <td>170</td>\n",
       "      <td>NaN</td>\n",
       "      <td>78.0</td>\n",
       "      <td>3079.038997</td>\n",
       "      <td>15.1</td>\n",
       "      <td>2018</td>\n",
       "      <td>Europe</td>\n",
       "      <td>Gasoline</td>\n",
       "      <td>Front-wheel drive</td>\n",
       "      <td>0.0</td>\n",
       "      <td>14.246341</td>\n",
       "    </tr>\n",
       "    <tr>\n",
       "      <th>3</th>\n",
       "      <td>220</td>\n",
       "      <td>4.0</td>\n",
       "      <td>NaN</td>\n",
       "      <td>2542.392402</td>\n",
       "      <td>20.2</td>\n",
       "      <td>2009</td>\n",
       "      <td>USA</td>\n",
       "      <td>Diesel</td>\n",
       "      <td>All-wheel drive</td>\n",
       "      <td>2.0</td>\n",
       "      <td>16.912736</td>\n",
       "    </tr>\n",
       "    <tr>\n",
       "      <th>4</th>\n",
       "      <td>210</td>\n",
       "      <td>1.0</td>\n",
       "      <td>140.0</td>\n",
       "      <td>3460.870990</td>\n",
       "      <td>14.4</td>\n",
       "      <td>2009</td>\n",
       "      <td>Europe</td>\n",
       "      <td>Gasoline</td>\n",
       "      <td>All-wheel drive</td>\n",
       "      <td>2.0</td>\n",
       "      <td>12.488369</td>\n",
       "    </tr>\n",
       "  </tbody>\n",
       "</table>\n",
       "</div>"
      ],
      "text/plain": [
       "   engine_displacement  num_cylinders  horsepower  vehicle_weight  \\\n",
       "0                  170            3.0       159.0     3413.433759   \n",
       "1                  130            5.0        97.0     3149.664934   \n",
       "2                  170            NaN        78.0     3079.038997   \n",
       "3                  220            4.0         NaN     2542.392402   \n",
       "4                  210            1.0       140.0     3460.870990   \n",
       "\n",
       "   acceleration  model_year  origin fuel_type         drivetrain  num_doors  \\\n",
       "0          17.7        2003  Europe  Gasoline    All-wheel drive        0.0   \n",
       "1          17.8        2007     USA  Gasoline  Front-wheel drive        0.0   \n",
       "2          15.1        2018  Europe  Gasoline  Front-wheel drive        0.0   \n",
       "3          20.2        2009     USA    Diesel    All-wheel drive        2.0   \n",
       "4          14.4        2009  Europe  Gasoline    All-wheel drive        2.0   \n",
       "\n",
       "   fuel_efficiency_mpg  \n",
       "0            13.231729  \n",
       "1            13.688217  \n",
       "2            14.246341  \n",
       "3            16.912736  \n",
       "4            12.488369  "
      ]
     },
     "execution_count": 4,
     "metadata": {},
     "output_type": "execute_result"
    }
   ],
   "source": [
    "df.head()"
   ]
  },
  {
   "cell_type": "code",
   "execution_count": 5,
   "id": "ee83335a-02c9-4860-937c-b4b9486bf552",
   "metadata": {},
   "outputs": [],
   "source": [
    "columns = ['engine_displacement','horsepower','vehicle_weight','model_year','fuel_efficiency_mpg']\n",
    "df_subset = df[columns].copy()"
   ]
  },
  {
   "cell_type": "code",
   "execution_count": 6,
   "id": "6751fc47-1522-44a8-a928-ba053f296ae8",
   "metadata": {},
   "outputs": [
    {
     "data": {
      "text/html": [
       "<div>\n",
       "<style scoped>\n",
       "    .dataframe tbody tr th:only-of-type {\n",
       "        vertical-align: middle;\n",
       "    }\n",
       "\n",
       "    .dataframe tbody tr th {\n",
       "        vertical-align: top;\n",
       "    }\n",
       "\n",
       "    .dataframe thead th {\n",
       "        text-align: right;\n",
       "    }\n",
       "</style>\n",
       "<table border=\"1\" class=\"dataframe\">\n",
       "  <thead>\n",
       "    <tr style=\"text-align: right;\">\n",
       "      <th></th>\n",
       "      <th>engine_displacement</th>\n",
       "      <th>horsepower</th>\n",
       "      <th>vehicle_weight</th>\n",
       "      <th>model_year</th>\n",
       "      <th>fuel_efficiency_mpg</th>\n",
       "    </tr>\n",
       "  </thead>\n",
       "  <tbody>\n",
       "    <tr>\n",
       "      <th>0</th>\n",
       "      <td>170</td>\n",
       "      <td>159.0</td>\n",
       "      <td>3413.433759</td>\n",
       "      <td>2003</td>\n",
       "      <td>13.231729</td>\n",
       "    </tr>\n",
       "    <tr>\n",
       "      <th>1</th>\n",
       "      <td>130</td>\n",
       "      <td>97.0</td>\n",
       "      <td>3149.664934</td>\n",
       "      <td>2007</td>\n",
       "      <td>13.688217</td>\n",
       "    </tr>\n",
       "    <tr>\n",
       "      <th>2</th>\n",
       "      <td>170</td>\n",
       "      <td>78.0</td>\n",
       "      <td>3079.038997</td>\n",
       "      <td>2018</td>\n",
       "      <td>14.246341</td>\n",
       "    </tr>\n",
       "    <tr>\n",
       "      <th>3</th>\n",
       "      <td>220</td>\n",
       "      <td>NaN</td>\n",
       "      <td>2542.392402</td>\n",
       "      <td>2009</td>\n",
       "      <td>16.912736</td>\n",
       "    </tr>\n",
       "    <tr>\n",
       "      <th>4</th>\n",
       "      <td>210</td>\n",
       "      <td>140.0</td>\n",
       "      <td>3460.870990</td>\n",
       "      <td>2009</td>\n",
       "      <td>12.488369</td>\n",
       "    </tr>\n",
       "    <tr>\n",
       "      <th>...</th>\n",
       "      <td>...</td>\n",
       "      <td>...</td>\n",
       "      <td>...</td>\n",
       "      <td>...</td>\n",
       "      <td>...</td>\n",
       "    </tr>\n",
       "    <tr>\n",
       "      <th>9699</th>\n",
       "      <td>140</td>\n",
       "      <td>164.0</td>\n",
       "      <td>2981.107371</td>\n",
       "      <td>2013</td>\n",
       "      <td>15.101802</td>\n",
       "    </tr>\n",
       "    <tr>\n",
       "      <th>9700</th>\n",
       "      <td>180</td>\n",
       "      <td>154.0</td>\n",
       "      <td>2439.525729</td>\n",
       "      <td>2004</td>\n",
       "      <td>17.962326</td>\n",
       "    </tr>\n",
       "    <tr>\n",
       "      <th>9701</th>\n",
       "      <td>220</td>\n",
       "      <td>138.0</td>\n",
       "      <td>2583.471318</td>\n",
       "      <td>2008</td>\n",
       "      <td>17.186587</td>\n",
       "    </tr>\n",
       "    <tr>\n",
       "      <th>9702</th>\n",
       "      <td>230</td>\n",
       "      <td>177.0</td>\n",
       "      <td>2905.527390</td>\n",
       "      <td>2011</td>\n",
       "      <td>15.331551</td>\n",
       "    </tr>\n",
       "    <tr>\n",
       "      <th>9703</th>\n",
       "      <td>270</td>\n",
       "      <td>140.0</td>\n",
       "      <td>2908.043477</td>\n",
       "      <td>2005</td>\n",
       "      <td>14.884467</td>\n",
       "    </tr>\n",
       "  </tbody>\n",
       "</table>\n",
       "<p>9704 rows × 5 columns</p>\n",
       "</div>"
      ],
      "text/plain": [
       "      engine_displacement  horsepower  vehicle_weight  model_year  \\\n",
       "0                     170       159.0     3413.433759        2003   \n",
       "1                     130        97.0     3149.664934        2007   \n",
       "2                     170        78.0     3079.038997        2018   \n",
       "3                     220         NaN     2542.392402        2009   \n",
       "4                     210       140.0     3460.870990        2009   \n",
       "...                   ...         ...             ...         ...   \n",
       "9699                  140       164.0     2981.107371        2013   \n",
       "9700                  180       154.0     2439.525729        2004   \n",
       "9701                  220       138.0     2583.471318        2008   \n",
       "9702                  230       177.0     2905.527390        2011   \n",
       "9703                  270       140.0     2908.043477        2005   \n",
       "\n",
       "      fuel_efficiency_mpg  \n",
       "0               13.231729  \n",
       "1               13.688217  \n",
       "2               14.246341  \n",
       "3               16.912736  \n",
       "4               12.488369  \n",
       "...                   ...  \n",
       "9699            15.101802  \n",
       "9700            17.962326  \n",
       "9701            17.186587  \n",
       "9702            15.331551  \n",
       "9703            14.884467  \n",
       "\n",
       "[9704 rows x 5 columns]"
      ]
     },
     "execution_count": 6,
     "metadata": {},
     "output_type": "execute_result"
    }
   ],
   "source": [
    "df_subset"
   ]
  },
  {
   "cell_type": "code",
   "execution_count": 7,
   "id": "c2917e72-402b-45d3-ab91-e2b48de4871e",
   "metadata": {},
   "outputs": [
    {
     "data": {
      "text/plain": [
       "engine_displacement      0\n",
       "horsepower             708\n",
       "vehicle_weight           0\n",
       "model_year               0\n",
       "fuel_efficiency_mpg      0\n",
       "dtype: int64"
      ]
     },
     "execution_count": 7,
     "metadata": {},
     "output_type": "execute_result"
    }
   ],
   "source": [
    "df_subset.isnull().sum()"
   ]
  },
  {
   "cell_type": "code",
   "execution_count": 8,
   "id": "1c60beda-feeb-47f7-beab-b86b31ab82d5",
   "metadata": {},
   "outputs": [
    {
     "data": {
      "text/plain": [
       "149.0"
      ]
     },
     "execution_count": 8,
     "metadata": {},
     "output_type": "execute_result"
    }
   ],
   "source": [
    "df_subset['horsepower'].median()"
   ]
  },
  {
   "cell_type": "code",
   "execution_count": 9,
   "id": "c99caad6-358c-496f-8292-f4200a552098",
   "metadata": {},
   "outputs": [],
   "source": [
    "import numpy as np"
   ]
  },
  {
   "cell_type": "code",
   "execution_count": 11,
   "id": "7159a75c-d71e-43f0-8e45-0c11ccdb9b64",
   "metadata": {},
   "outputs": [],
   "source": [
    "# Set the random seed for reproducibility\n",
    "np.random.seed(42)\n",
    "\n",
    "# Get the total number of rows in the DataFrame\n",
    "n = len(df_subset)\n",
    "\n",
    "# Create a shuffled array of indices from 0 to n-1\n",
    "idx = np.arange(n)\n",
    "np.random.shuffle(idx)\n",
    "\n",
    "# Calculate the sizes for each set\n",
    "n_val = int(n * 0.2)\n",
    "n_test = int(n * 0.2)\n",
    "n_train = n - n_val - n_test\n",
    "\n",
    "# Split the shuffled indices\n",
    "train_idx = idx[n_val+n_test:]\n",
    "val_idx = idx[:n_val]\n",
    "test_idx = idx[n_val:n_val+n_test]\n",
    "\n",
    "# Create the DataFrames for each set\n",
    "df_train = df_subset.iloc[train_idx]\n",
    "df_val = df_subset.iloc[val_idx]\n",
    "df_test = df_subset.iloc[test_idx]"
   ]
  },
  {
   "cell_type": "code",
   "execution_count": 21,
   "id": "c3a6b494-5f5c-4a19-a9ce-971753c41423",
   "metadata": {},
   "outputs": [],
   "source": [
    "# Create the feature matrix and target vector for the training set\n",
    "X_train = df_train.drop('fuel_efficiency_mpg', axis=1)\n",
    "y_train = df_train['fuel_efficiency_mpg'].values\n",
    "\n",
    "# Do the same for the validation set\n",
    "X_val = df_val.drop('fuel_efficiency_mpg', axis=1)\n",
    "y_val = df_val['fuel_efficiency_mpg'].values\n",
    "\n",
    "# Function to train the model using the normal equation\n",
    "def train_linear_regression(X, y):\n",
    "    # Add a bias term (a column of ones) to the feature matrix\n",
    "    ones = np.ones(X.shape[0])\n",
    "    X = np.column_stack([ones, X])\n",
    "\n",
    "    # Normal equation: w = (X^T * X)^-1 * X^T * y\n",
    "    XTX = X.T.dot(X)\n",
    "    XTX_inv = np.linalg.inv(XTX)\n",
    "    w = XTX_inv.dot(X.T).dot(y)\n",
    "    \n",
    "    return w[0], w[1:] # Separate bias (w0) and feature weights (w)\n",
    "\n",
    "# Function to calculate RMSE\n",
    "def rmse(y, y_pred):\n",
    "    # Calculate the squared difference between actual and predicted values\n",
    "    error = y_pred - y\n",
    "    # Square the errors, take the mean, and then the square root\n",
    "    mse = (error ** 2).mean()\n",
    "    return np.sqrt(mse)"
   ]
  },
  {
   "cell_type": "code",
   "execution_count": 23,
   "id": "f71458d1-0c1d-4850-a603-989febf64e14",
   "metadata": {},
   "outputs": [
    {
     "name": "stdout",
     "output_type": "stream",
     "text": [
      "RMSE with zero-filling: 0.53\n"
     ]
    }
   ],
   "source": [
    "# --- Option 1: Fill with 0 ---\n",
    "X_train_zero = X_train.fillna(0)\n",
    "w0_zero, w_zero = train_linear_regression(X_train_zero, y_train)\n",
    "\n",
    "# Make predictions on the validation set\n",
    "X_val_zero = X_val.fillna(0)\n",
    "y_pred_zero = w0_zero + X_val_zero.dot(w_zero)\n",
    "rmse_zero = rmse(y_val, y_pred_zero)\n",
    "print(f\"RMSE with zero-filling: {round(rmse_zero, 2)}\")"
   ]
  },
  {
   "cell_type": "code",
   "execution_count": 24,
   "id": "7a689be0-07f0-4630-8fde-bef7304012ca",
   "metadata": {},
   "outputs": [
    {
     "name": "stdout",
     "output_type": "stream",
     "text": [
      "RMSE with mean-filling: 0.47\n"
     ]
    }
   ],
   "source": [
    "# --- Option 2: Fill with mean ---\n",
    "# IMPORTANT: Calculate mean on the training data ONLY to avoid data leakage\n",
    "mean_hp = X_train['horsepower'].mean()\n",
    "X_train_mean = X_train.fillna(mean_hp)\n",
    "w0_mean, w_mean = train_linear_regression(X_train_mean, y_train)\n",
    "\n",
    "# Make predictions on the validation set\n",
    "X_val_mean = X_val.fillna(mean_hp)\n",
    "y_pred_mean = w0_mean + X_val_mean.dot(w_mean)\n",
    "rmse_mean = rmse(y_val, y_pred_mean)\n",
    "print(f\"RMSE with mean-filling: {round(rmse_mean, 2)}\")"
   ]
  },
  {
   "cell_type": "code",
   "execution_count": 41,
   "id": "a21d4d30-8fda-4ac7-be4b-f3f8e6c1856e",
   "metadata": {},
   "outputs": [
    {
     "name": "stdout",
     "output_type": "stream",
     "text": [
      "r = 0, RMSE = 0.530479\n",
      "r = 0.01, RMSE = 0.530955\n",
      "r = 0.1, RMSE = 0.534768\n",
      "r = 1, RMSE = 0.539329\n",
      "r = 5, RMSE = 0.54011\n",
      "r = 10, RMSE = 0.540215\n",
      "r = 100, RMSE = 0.540312\n"
     ]
    }
   ],
   "source": [
    "# A new function for training with regularization\n",
    "def train_linear_regression_reg(X, y, r=0.0):\n",
    "    # Add a bias term (a column of ones)\n",
    "    ones = np.ones(X.shape[0])\n",
    "    X = np.column_stack([ones, X])\n",
    "\n",
    "    # Normal equation with regularization: w = (X^T * X + r*I)^-1 * X^T * y\n",
    "    XTX = X.T.dot(X)\n",
    "    reg = r * np.eye(XTX.shape[0]) # Create the regularization term\n",
    "    XTX = XTX + reg\n",
    "    XTX_inv = np.linalg.inv(XTX)\n",
    "    w = XTX_inv.dot(X.T).dot(y)\n",
    "    \n",
    "    return w[0], w[1:]\n",
    "\n",
    "# Prepare the data by filling missing values with 0\n",
    "X_train_zero = X_train.fillna(0)\n",
    "X_val_zero = X_val.fillna(0)\n",
    "\n",
    "# Loop through each value of r\n",
    "for r in [0, 0.01, 0.1, 1, 5, 10, 100]:\n",
    "    # Train the model with the current r\n",
    "    w0, w = train_linear_regression_reg(X_train_zero, y_train, r=r)\n",
    "    \n",
    "    # Make predictions on the validation set\n",
    "    y_pred = w0 + X_val_zero.dot(w)\n",
    "    \n",
    "    # Calculate and print the RMSE, rounded to 2 decimal places\n",
    "    score = rmse(y_val, y_pred)\n",
    "    print(f\"r = {r}, RMSE = {round(score, 6)}\")"
   ]
  },
  {
   "cell_type": "code",
   "execution_count": 42,
   "id": "25fdf201-60bc-4a86-a4a6-1cfe68de31a7",
   "metadata": {},
   "outputs": [
    {
     "name": "stdout",
     "output_type": "stream",
     "text": [
      "The standard deviation of the RMSE scores is: 0.008\n"
     ]
    }
   ],
   "source": [
    "# A list to store the RMSE score for each seed\n",
    "rmse_scores = []\n",
    "\n",
    "# A list of seeds to try\n",
    "seeds = [0, 1, 2, 3, 4, 5, 6, 7, 8, 9]\n",
    "\n",
    "# Loop through each seed\n",
    "for seed in seeds:\n",
    "    # Set the seed for reproducibility\n",
    "    np.random.seed(seed)\n",
    "\n",
    "    # --- Data Splitting (same as before) ---\n",
    "    n = len(df_subset)\n",
    "    idx = np.arange(n)\n",
    "    np.random.shuffle(idx)\n",
    "    n_val = int(n * 0.2)\n",
    "    n_test = int(n * 0.2)\n",
    "    train_idx = idx[n_val+n_test:]\n",
    "    val_idx = idx[:n_val]\n",
    "    df_train = df_subset.iloc[train_idx]\n",
    "    df_val = df_subset.iloc[val_idx]\n",
    "    \n",
    "    # --- Data Preparation ---\n",
    "    X_train = df_train.drop('fuel_efficiency_mpg', axis=1).fillna(0)\n",
    "    y_train = df_train['fuel_efficiency_mpg'].values\n",
    "    X_val = df_val.drop('fuel_efficiency_mpg', axis=1).fillna(0)\n",
    "    y_val = df_val['fuel_efficiency_mpg'].values\n",
    "\n",
    "    # --- Train and Predict (using the non-regularized function) ---\n",
    "    w0, w = train_linear_regression(X_train, y_train)\n",
    "    y_pred = w0 + X_val.dot(w)\n",
    "    \n",
    "    # --- Calculate and store the score ---\n",
    "    score = rmse(y_val, y_pred)\n",
    "    rmse_scores.append(score)\n",
    "\n",
    "# Calculate the standard deviation of all the scores\n",
    "std_deviation = np.std(rmse_scores)\n",
    "\n",
    "print(f\"The standard deviation of the RMSE scores is: {round(std_deviation, 3)}\")"
   ]
  },
  {
   "cell_type": "code",
   "execution_count": 43,
   "id": "49f749c4-1ce2-4e3a-a115-48b7097bdf47",
   "metadata": {},
   "outputs": [
    {
     "name": "stdout",
     "output_type": "stream",
     "text": [
      "The final RMSE on the test set is: 0.5197377167065796\n"
     ]
    }
   ],
   "source": [
    "# Set the final seed\n",
    "np.random.seed(9)\n",
    "\n",
    "# --- Data Splitting (60/20/20) ---\n",
    "n = len(df_subset)\n",
    "idx = np.arange(n)\n",
    "np.random.shuffle(idx)\n",
    "n_val = int(n * 0.2)\n",
    "n_test = int(n * 0.2)\n",
    "train_idx = idx[n_val+n_test:]\n",
    "val_idx = idx[:n_val]\n",
    "test_idx = idx[n_val:n_val+n_test]\n",
    "df_train = df_subset.iloc[train_idx]\n",
    "df_val = df_subset.iloc[val_idx]\n",
    "df_test = df_subset.iloc[test_idx]\n",
    "\n",
    "# --- Combine train and validation sets ---\n",
    "df_full_train = pd.concat([df_train, df_val])\n",
    "\n",
    "# --- Prepare the final datasets ---\n",
    "# Reset index is good practice after concatenating\n",
    "df_full_train = df_full_train.reset_index(drop=True)\n",
    "X_full_train = df_full_train.drop('fuel_efficiency_mpg', axis=1)\n",
    "y_full_train = df_full_train['fuel_efficiency_mpg'].values\n",
    "\n",
    "X_test = df_test.drop('fuel_efficiency_mpg', axis=1)\n",
    "y_test = df_test['fuel_efficiency_mpg'].values\n",
    "\n",
    "# --- Fill missing values with 0 ---\n",
    "X_full_train = X_full_train.fillna(0)\n",
    "X_test = X_test.fillna(0)\n",
    "\n",
    "# --- Train the final regularized model ---\n",
    "w0, w = train_linear_regression_reg(X_full_train, y_full_train, r=0.001)\n",
    "\n",
    "# --- Make predictions on the test set ---\n",
    "y_pred = w0 + X_test.dot(w)\n",
    "\n",
    "# --- Calculate the final RMSE score ---\n",
    "final_rmse = rmse(y_test, y_pred)\n",
    "\n",
    "print(f\"The final RMSE on the test set is: {final_rmse}\")"
   ]
  },
  {
   "cell_type": "code",
   "execution_count": null,
   "id": "0bdd878b-4920-4912-9bd9-3a88a85d636c",
   "metadata": {},
   "outputs": [],
   "source": []
  }
 ],
 "metadata": {
  "kernelspec": {
   "display_name": "Python 3 (ipykernel)",
   "language": "python",
   "name": "python3"
  },
  "language_info": {
   "codemirror_mode": {
    "name": "ipython",
    "version": 3
   },
   "file_extension": ".py",
   "mimetype": "text/x-python",
   "name": "python",
   "nbconvert_exporter": "python",
   "pygments_lexer": "ipython3",
   "version": "3.12.3"
  }
 },
 "nbformat": 4,
 "nbformat_minor": 5
}
