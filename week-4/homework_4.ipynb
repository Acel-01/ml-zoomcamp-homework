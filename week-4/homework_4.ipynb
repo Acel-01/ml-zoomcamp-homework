{
 "cells": [
  {
   "cell_type": "code",
   "execution_count": 2,
   "id": "9dba6d85-e703-453d-aad7-a1e632c578dc",
   "metadata": {},
   "outputs": [
    {
     "name": "stdout",
     "output_type": "stream",
     "text": [
      "--2025-10-25 22:05:28--  https://raw.githubusercontent.com/alexeygrigorev/datasets/master/course_lead_scoring.csv\n",
      "Resolving raw.githubusercontent.com (raw.githubusercontent.com)... 185.199.111.133, 185.199.110.133, 185.199.108.133, ...\n",
      "Connecting to raw.githubusercontent.com (raw.githubusercontent.com)|185.199.111.133|:443... connected.\n",
      "HTTP request sent, awaiting response... 200 OK\n",
      "Length: 80876 (79K) [text/plain]\n",
      "Saving to: ‘course_lead_scoring.csv’\n",
      "\n",
      "course_lead_scoring 100%[===================>]  78.98K  --.-KB/s    in 0.001s  \n",
      "\n",
      "2025-10-25 22:05:28 (71.4 MB/s) - ‘course_lead_scoring.csv’ saved [80876/80876]\n",
      "\n"
     ]
    }
   ],
   "source": [
    "!wget https://raw.githubusercontent.com/alexeygrigorev/datasets/master/course_lead_scoring.csv"
   ]
  },
  {
   "cell_type": "code",
   "execution_count": 1,
   "id": "50c5e714-4f12-4ce1-83d6-f08746cfc348",
   "metadata": {},
   "outputs": [
    {
     "name": "stdout",
     "output_type": "stream",
     "text": [
      "The true mean of 'converted' is: 0.6190\n",
      "\n",
      "Data split successfully with random_state=1:\n",
      "X_train shape: (876, 8)\n",
      "X_val shape:   (293, 8)\n",
      "X_test shape:  (293, 8)\n"
     ]
    }
   ],
   "source": [
    "import pandas as pd\n",
    "import numpy as np\n",
    "import requests\n",
    "import io\n",
    "from sklearn.model_selection import train_test_split\n",
    "\n",
    "# --- 1. Load Data Directly from csv ---\n",
    "df = pd.read_csv('course_lead_scoring.csv')\n",
    "print(f\"The true mean of 'converted' is: {df['converted'].mean():.4f}\\n\")\n",
    "\n",
    "# --- 2. Data Preparation ---\n",
    "categorical = list(df.dtypes[df.dtypes == 'object'].index)\n",
    "numerical = list(df.dtypes[df.dtypes != 'object'].index)\n",
    "numerical.remove('converted')\n",
    "\n",
    "for col in categorical:\n",
    "    df[col] = df[col].fillna('NA')\n",
    "for col in numerical:\n",
    "    df[col] = df[col].fillna(0.0)\n",
    "\n",
    "# --- 3. Define Features and Target ---\n",
    "df_features = df[categorical + numerical]\n",
    "df_target = df['converted']\n",
    "\n",
    "# --- 4. Split the Data (using random_state=1) ---\n",
    "# First split: 80% train_full, 20% test\n",
    "X_train_full, X_test, y_train_full, y_test = train_test_split(df_features, df_target, \n",
    "                                                              test_size=0.2, \n",
    "                                                              random_state=1)\n",
    "# Second split: 60% train, 20% val (0.25 * 0.8 = 0.2)\n",
    "X_train, X_val, y_train, y_val = train_test_split(X_train_full, y_train_full, \n",
    "                                                  test_size=0.25, \n",
    "                                                  random_state=1)\n",
    "\n",
    "print(f\"Data split successfully with random_state=1:\")\n",
    "print(f\"X_train shape: {X_train.shape}\")\n",
    "print(f\"X_val shape:   {X_val.shape}\")\n",
    "print(f\"X_test shape:  {X_test.shape}\")"
   ]
  },
  {
   "cell_type": "code",
   "execution_count": 2,
   "id": "d529ea41-5c84-483a-8c8f-153dfdef848b",
   "metadata": {},
   "outputs": [
    {
     "name": "stdout",
     "output_type": "stream",
     "text": [
      "--- AUC Feature Importance (on training data) ---\n",
      "'number_of_courses_viewed': 0.764\n",
      "'annual_income': 0.552\n",
      "'interaction_count': 0.738\n",
      "'lead_score': 0.614\n"
     ]
    }
   ],
   "source": [
    "from sklearn.metrics import roc_auc_score\n",
    "\n",
    "print(\"--- AUC Feature Importance (on training data) ---\")\n",
    "\n",
    "# Loop through each numerical feature\n",
    "for col in numerical:\n",
    "    # Calculate the AUC score\n",
    "    auc = roc_auc_score(y_train, X_train[col])\n",
    "    \n",
    "    # Check if we need to invert the feature\n",
    "    if auc < 0.5:\n",
    "        auc = roc_auc_score(y_train, -X_train[col])\n",
    "        print(f\"'{col}' (inverted): {round(auc, 3)}\")\n",
    "    else:\n",
    "        print(f\"'{col}': {round(auc, 3)}\")"
   ]
  },
  {
   "cell_type": "code",
   "execution_count": 3,
   "id": "d3881476-876c-4879-b3d7-4ff6269e6813",
   "metadata": {},
   "outputs": [
    {
     "name": "stdout",
     "output_type": "stream",
     "text": [
      "The AUC of the model on the validation dataset is: 0.817\n"
     ]
    }
   ],
   "source": [
    "from sklearn.feature_extraction import DictVectorizer\n",
    "from sklearn.linear_model import LogisticRegression\n",
    "from sklearn.metrics import roc_auc_score\n",
    "\n",
    "# 1. Initialize the DictVectorizer\n",
    "dv = DictVectorizer(sparse=False)\n",
    "\n",
    "# 2. Prepare the dictionaries for our train and val sets\n",
    "X_train_dicts = X_train.to_dict(orient='records')\n",
    "X_val_dicts = X_val.to_dict(orient='records')\n",
    "\n",
    "# 3. Fit and transform the training data\n",
    "X_train_encoded = dv.fit_transform(X_train_dicts)\n",
    "\n",
    "# 4. ONLY transform the validation data\n",
    "X_val_encoded = dv.transform(X_val_dicts)\n",
    "\n",
    "# 5. Initialize the model with homework parameters\n",
    "model = LogisticRegression(solver='liblinear', C=1.0, max_iter=1000)\n",
    "\n",
    "# 6. Train the model\n",
    "model.fit(X_train_encoded, y_train)\n",
    "\n",
    "# 7. Get the predicted probabilities for the validation set\n",
    "# We need the probabilities for the \"positive\" class (1)\n",
    "y_pred = model.predict_proba(X_val_encoded)[:, 1]\n",
    "\n",
    "# 8. Calculate the AUC score\n",
    "auc = roc_auc_score(y_val, y_pred)\n",
    "\n",
    "print(f\"The AUC of the model on the validation dataset is: {round(auc, 3)}\")"
   ]
  },
  {
   "cell_type": "code",
   "execution_count": 6,
   "id": "8c1f396b-8990-4b42-bba8-e12c1a61afd8",
   "metadata": {},
   "outputs": [
    {
     "name": "stdout",
     "output_type": "stream",
     "text": [
      "The threshold where Precision and Recall are closest is: 0.640\n"
     ]
    }
   ],
   "source": [
    "from sklearn.metrics import precision_score, recall_score\n",
    "import numpy as np\n",
    "\n",
    "# A list to store our results\n",
    "scores = []\n",
    "\n",
    "# Generate thresholds from 0.0 to 1.0 with a step of 0.01\n",
    "thresholds = np.arange(0.0, 1.01, 0.01)\n",
    "\n",
    "# We use the y_pred (probabilities) from the previous question\n",
    "for t in thresholds:\n",
    "    # 1. Convert probabilities to 0/1 decisions based on threshold\n",
    "    y_decision = (y_pred >= t)\n",
    "    \n",
    "    # 2. Calculate precision and recall\n",
    "    # 'zero_division=0' prevents a warning if we never predict a '1'\n",
    "    precision = precision_score(y_val, y_decision, zero_division=0)\n",
    "    recall = recall_score(y_val, y_decision)\n",
    "    \n",
    "    # 3. Store the scores\n",
    "    scores.append((t, precision, recall))\n",
    "\n",
    "# --- Find the intersection point ---\n",
    "meaningful_diffs = []\n",
    "\n",
    "# We use the 'scores' list from before\n",
    "for t, p, r in scores:\n",
    "    # We only care about points *before* recall drops to 0\n",
    "    # Let's say, where recall is at least > 0.01\n",
    "    if r > 0.01 and p > 0.01:\n",
    "        meaningful_diffs.append((t, abs(p - r)))\n",
    "\n",
    "# Sort by the difference (smallest first)\n",
    "meaningful_diffs.sort(key=lambda x: x[1])\n",
    "\n",
    "# Get the threshold with the smallest *real* difference\n",
    "best_threshold = meaningful_diffs[0][0]\n",
    "\n",
    "print(f\"The threshold where Precision and Recall are closest is: {best_threshold:.3f}\")"
   ]
  },
  {
   "cell_type": "code",
   "execution_count": 7,
   "id": "8176a244-72c6-4384-98f9-2de059db9a18",
   "metadata": {},
   "outputs": [
    {
     "data": {
      "image/png": "[encoded data removed]",
      "text/plain": [
       "<Figure size 800x500 with 1 Axes>"
      ]
     },
     "metadata": {},
     "output_type": "display_data"
    }
   ],
   "source": [
    "import matplotlib.pyplot as plt\n",
    "\n",
    "# --- Plotting Code ---\n",
    "\n",
    "# Get the list of thresholds, precisions, and recalls from our 'scores'\n",
    "thresholds_list = [item[0] for item in scores]\n",
    "precision_list = [item[1] for item in scores]\n",
    "recall_list = [item[2] for item in scores]\n",
    "\n",
    "# Plot the curves\n",
    "plt.figure(figsize=(8, 5)) # Set a nice size for the plot\n",
    "plt.plot(thresholds_list, precision_list, label='Precision', linestyle='--', color='blue')\n",
    "plt.plot(thresholds_list, recall_list, label='Recall', linestyle='-', color='green')\n",
    "\n",
    "# Add labels and title\n",
    "plt.title('Precision-Recall vs. Threshold')\n",
    "plt.xlabel('Threshold')\n",
    "plt.ylabel('Score')\n",
    "plt.legend()\n",
    "plt.grid(True) # Add a grid for easier reading\n",
    "plt.show()"
   ]
  },
  {
   "cell_type": "code",
   "execution_count": 8,
   "id": "6c764345-ba4c-4509-9370-6dd476214d85",
   "metadata": {},
   "outputs": [
    {
     "name": "stdout",
     "output_type": "stream",
     "text": [
      "Max F1 score of 0.8125 found at threshold: 0.570\n"
     ]
    }
   ],
   "source": [
    "from sklearn.metrics import f1_score\n",
    "\n",
    "# A list to store our F1 scores\n",
    "f1_scores = []\n",
    "\n",
    "# We use the 'scores' list from before (t, p, r)\n",
    "for t, p, r in scores:\n",
    "    \n",
    "    # We need to re-create the 0/1 decisions for f1_score\n",
    "    y_decision = (y_pred >= t)\n",
    "    \n",
    "    # Calculate the F1 score\n",
    "    f1 = f1_score(y_val, y_decision)\n",
    "    \n",
    "    # Store the threshold and its F1 score\n",
    "    f1_scores.append((t, f1))\n",
    "\n",
    "# --- Find the best threshold ---\n",
    "# Sort the list by F1 score (highest first)\n",
    "f1_scores.sort(key=lambda x: x[1], reverse=True)\n",
    "\n",
    "# Get the threshold with the highest F1 score\n",
    "best_f1_threshold = f1_scores[0][0]\n",
    "best_f1_score = f1_scores[0][1]\n",
    "\n",
    "print(f\"Max F1 score of {best_f1_score:.4f} found at threshold: {best_f1_threshold:.3f}\")"
   ]
  },
  {
   "cell_type": "code",
   "execution_count": 9,
   "id": "ce36a016-a33e-4370-9787-b199210e0833",
   "metadata": {},
   "outputs": [
    {
     "name": "stdout",
     "output_type": "stream",
     "text": [
      "AUC scores from 5 folds: [0.806, 0.871, 0.775, 0.802, 0.856]\n",
      "Standard Deviation of scores: 0.0358\n"
     ]
    }
   ],
   "source": [
    "from sklearn.model_selection import KFold\n",
    "\n",
    "# 1. Initialize KFold\n",
    "kfold = KFold(n_splits=5, shuffle=True, random_state=1)\n",
    "\n",
    "# A list to store the 5 AUC scores\n",
    "scores = []\n",
    "\n",
    "# 2. Loop through the 5 folds\n",
    "# kfold.split gives us the *row indices* for train/val\n",
    "for train_idx, val_idx in kfold.split(X_train_full):\n",
    "    \n",
    "    # 3. Create the data for this fold\n",
    "    X_train_fold = X_train_full.iloc[train_idx]\n",
    "    y_train_fold = y_train_full.iloc[train_idx]\n",
    "    \n",
    "    X_val_fold = X_train_full.iloc[val_idx]\n",
    "    y_val_fold = y_train_full.iloc[val_idx]\n",
    "\n",
    "    # 4. Initialize and fit a new vectorizer\n",
    "    dv = DictVectorizer(sparse=False)\n",
    "    X_train_fold_encoded = dv.fit_transform(X_train_fold.to_dict(orient='records'))\n",
    "    X_val_fold_encoded = dv.transform(X_val_fold.to_dict(orient='records'))\n",
    "\n",
    "    # 5. Initialize and train a new model\n",
    "    model_fold = LogisticRegression(solver='liblinear', C=1.0, max_iter=1000)\n",
    "    model_fold.fit(X_train_fold_encoded, y_train_fold)\n",
    "    \n",
    "    # 6. Get predictions and calculate AUC\n",
    "    y_pred_fold = model_fold.predict_proba(X_val_fold_encoded)[:, 1]\n",
    "    auc = roc_auc_score(y_val_fold, y_pred_fold)\n",
    "    scores.append(auc)\n",
    "\n",
    "# 7. Calculate the standard deviation of the 5 scores\n",
    "std_deviation = np.std(scores)\n",
    "\n",
    "print(f\"AUC scores from 5 folds: {[round(s, 3) for s in scores]}\")\n",
    "print(f\"Standard Deviation of scores: {round(std_deviation, 4)}\")"
   ]
  },
  {
   "cell_type": "code",
   "execution_count": 10,
   "id": "6cda8b2b-0007-411d-98ca-27c63fea2903",
   "metadata": {},
   "outputs": [
    {
     "name": "stdout",
     "output_type": "stream",
     "text": [
      "--- Cross-Validating to find best C ---\n",
      "C = 1e-06:\n",
      "  Mean AUC = 0.56, Std = 0.024\n",
      "\n",
      "C = 0.001:\n",
      "  Mean AUC = 0.867, Std = 0.029\n",
      "\n",
      "C = 1:\n",
      "  Mean AUC = 0.822, Std = 0.036\n",
      "\n"
     ]
    }
   ],
   "source": [
    "# The list of C values to test\n",
    "C_values_to_test = [0.000001, 0.001, 1]\n",
    "\n",
    "# Initialize KFold just like before\n",
    "kfold = KFold(n_splits=5, shuffle=True, random_state=1)\n",
    "\n",
    "print(\"--- Cross-Validating to find best C ---\")\n",
    "\n",
    "# Outer loop: Iterate over C values\n",
    "for C in C_values_to_test:\n",
    "    \n",
    "    fold_scores = [] # A list to store scores for this C\n",
    "    \n",
    "    # Inner loop: Iterate over the 5 folds\n",
    "    for train_idx, val_idx in kfold.split(X_train_full):\n",
    "        \n",
    "        # Create data for this fold\n",
    "        X_train_fold = X_train_full.iloc[train_idx]\n",
    "        y_train_fold = y_train_full.iloc[train_idx]\n",
    "        X_val_fold = X_train_full.iloc[val_idx]\n",
    "        y_val_fold = y_train_full.iloc[val_idx]\n",
    "\n",
    "        # Fit a new vectorizer\n",
    "        dv = DictVectorizer(sparse=False)\n",
    "        X_train_fold_encoded = dv.fit_transform(X_train_fold.to_dict(orient='records'))\n",
    "        X_val_fold_encoded = dv.transform(X_val_fold.to_dict(orient='records'))\n",
    "\n",
    "        # Initialize and train a new model *with this C*\n",
    "        model_fold = LogisticRegression(solver='liblinear', C=C, max_iter=1000)\n",
    "        model_fold.fit(X_train_fold_encoded, y_train_fold)\n",
    "        \n",
    "        # Get AUC and append to this C's score list\n",
    "        y_pred_fold = model_fold.predict_proba(X_val_fold_encoded)[:, 1]\n",
    "        auc = roc_auc_score(y_val_fold, y_pred_fold)\n",
    "        fold_scores.append(auc)\n",
    "\n",
    "    # After the 5 folds, calculate mean and std for this C\n",
    "    mean_score = np.mean(fold_scores)\n",
    "    std_score = np.std(fold_scores)\n",
    "    \n",
    "    print(f\"C = {C}:\")\n",
    "    print(f\"  Mean AUC = {round(mean_score, 3)}, Std = {round(std_score, 3)}\\n\")"
   ]
  },
  {
   "cell_type": "code",
   "execution_count": null,
   "id": "91a770b0-80ee-445f-98a2-12edceedad41",
   "metadata": {},
   "outputs": [],
   "source": []
  }
 ],
 "metadata": {
  "kernelspec": {
   "display_name": "Python 3 (ipykernel)",
   "language": "python",
   "name": "python3"
  },
  "language_info": {
   "codemirror_mode": {
    "name": "ipython",
    "version": 3
   },
   "file_extension": ".py",
   "mimetype": "text/x-python",
   "name": "python",
   "nbconvert_exporter": "python",
   "pygments_lexer": "ipython3",
   "version": "3.12.3"
  }
 },
 "nbformat": 4,
 "nbformat_minor": 5
}
